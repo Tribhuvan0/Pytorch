{
 "cells": [
  {
   "cell_type": "markdown",
   "metadata": {},
   "source": [
    "# Neural networks with PyTorch\n",
    "\n",
    "Deep learning networks tend to be massive with dozens or hundreds of layers, that's where the term \"deep\" comes from. You can build one of these deep networks using only weight matrices as we did in the previous notebook, but in general it's very cumbersome and difficult to implement. PyTorch has a nice module `nn` that provides a nice way to efficiently build large neural networks."
   ]
  },
  {
   "cell_type": "code",
   "execution_count": 30,
   "metadata": {
    "collapsed": true
   },
   "outputs": [],
   "source": [
    "# Import necessary packages\n",
    "\n",
    "%matplotlib inline\n",
    "%config InlineBackend.figure_format = 'retina'\n",
    "\n",
    "import numpy as np\n",
    "import torch\n",
    "\n",
    "import helper\n",
    "\n",
    "import matplotlib.pyplot as plt"
   ]
  },
  {
   "cell_type": "markdown",
   "metadata": {},
   "source": [
    "\n",
    "Now we're going to build a larger network that can solve a (formerly) difficult problem, identifying text in an image. Here we'll use the MNIST dataset which consists of greyscale handwritten digits. Each image is 28x28 pixels, you can see a sample below\n",
    "\n",
    "<img src='assets/mnist.png'>\n",
    "\n",
    "Our goal is to build a neural network that can take one of these images and predict the digit in the image.\n",
    "\n",
    "First up, we need to get our dataset. This is provided through the `torchvision` package. The code below will download the MNIST dataset, then create training and test datasets for us. Don't worry too much about the details here, you'll learn more about this later."
   ]
  },
  {
   "cell_type": "code",
   "execution_count": 31,
   "metadata": {},
   "outputs": [],
   "source": [
    "# The MNIST datasets are hosted on yann.lecun.com that has moved under CloudFlare protection\n",
    "# Run this script to enable the datasets download\n",
    "# Reference: https://github.com/pytorch/vision/issues/1938\n",
    "\n",
    "from six.moves import urllib\n",
    "opener = urllib.request.build_opener()\n",
    "opener.addheaders = [('User-agent', 'Mozilla/5.0')]\n",
    "urllib.request.install_opener(opener)"
   ]
  },
  {
   "cell_type": "code",
   "execution_count": 32,
   "metadata": {
    "collapsed": true
   },
   "outputs": [],
   "source": [
    "### Run this cell\n",
    "\n",
    "from torchvision import datasets, transforms\n",
    "\n",
    "# Define a transform to normalize the data\n",
    "transform = transforms.Compose([transforms.ToTensor(),\n",
    "                              transforms.Normalize((0.5,), (0.5,)),\n",
    "                              ])\n",
    "\n",
    "# Download and load the training data\n",
    "trainset = datasets.MNIST('~/.pytorch/MNIST_data/', download=True, train=True, transform=transform)\n",
    "trainloader = torch.utils.data.DataLoader(trainset, batch_size=64, shuffle=True)"
   ]
  },
  {
   "cell_type": "markdown",
   "metadata": {},
   "source": [
    "We have the training data loaded into `trainloader` and we make that an iterator with `iter(trainloader)`. Later, we'll use this to loop through the dataset for training, like\n",
    "\n",
    "```python\n",
    "for image, label in trainloader:\n",
    "    ## do things with images and labels\n",
    "```\n",
    "\n",
    "You'll notice I created the `trainloader` with a batch size of 64, and `shuffle=True`. The batch size is the number of images we get in one iteration from the data loader and pass through our network, often called a *batch*. And `shuffle=True` tells it to shuffle the dataset every time we start going through the data loader again. But here I'm just grabbing the first batch so we can check out the data. We can see below that `images` is just a tensor with size `(64, 1, 28, 28)`. So, 64 images per batch, 1 color channel, and 28x28 images."
   ]
  },
  {
   "cell_type": "code",
   "execution_count": 33,
   "metadata": {
    "collapsed": true
   },
   "outputs": [
    {
     "name": "stdout",
     "output_type": "stream",
     "text": [
      "<class 'torch.Tensor'>\n",
      "torch.Size([64, 1, 28, 28])\n",
      "torch.Size([64])\n"
     ]
    }
   ],
   "source": [
    "dataiter = iter(trainloader)\n",
    "images, labels = next(dataiter)\n",
    "print(type(images))\n",
    "print(images.shape)\n",
    "print(labels.shape)"
   ]
  },
  {
   "cell_type": "markdown",
   "metadata": {},
   "source": [
    "This is what one of the images looks like. "
   ]
  },
  {
   "cell_type": "code",
   "execution_count": 34,
   "metadata": {
    "collapsed": true
   },
   "outputs": [
    {
     "data": {
      "image/png": "[encoded data removed]",
      "text/plain": [
       "<Figure size 640x480 with 1 Axes>"
      ]
     },
     "metadata": {
      "image/png": {
       "height": 413,
       "width": 417
      }
     },
     "output_type": "display_data"
    }
   ],
   "source": [
    "plt.imshow(images[1].numpy().squeeze(), cmap='Greys_r');"
   ]
  },
  {
   "cell_type": "markdown",
   "metadata": {},
   "source": [
    "First, let's try to build a simple network for this dataset using weight matrices and matrix multiplications. Then, we'll see how to do it using PyTorch's `nn` module which provides a much more convenient and powerful method for defining network architectures.\n",
    "\n",
    "The networks you've seen so far are called *fully-connected* or *dense* networks. Each unit in one layer is connected to each unit in the next layer. In fully-connected networks, the input to each layer must be a one-dimensional vector (which can be stacked into a 2D tensor as a batch of multiple examples). However, our images are 28x28 2D tensors, so we need to convert them into 1D vectors. Thinking about sizes, we need to convert the batch of images with shape `(64, 1, 28, 28)` to a have a shape of `(64, 784)`, 784 is 28 times 28. This is typically called *flattening*, we flattened the 2D images into 1D vectors.\n",
    "\n",
    "Previously you built a network with one output unit. Here we need 10 output units, one for each digit. We want our network to predict the digit shown in an image, so what we'll do is calculate probabilities that the image is of any one digit or class. This ends up being a discrete probability distribution over the classes (digits) that tells us the most likely class for the image. That means we need 10 output units for the 10 classes (digits). We'll see how to convert the network output into a probability distribution next.\n",
    "\n",
    "> **Exercise:** Flatten the batch of images `images`. Then build a multi-layer network with 784 input units, 256 hidden units, and 10 output units using random tensors for the weights and biases. For now, use a sigmoid activation for the hidden layer. Leave the output layer without an activation, we'll add one that gives us a probability distribution next."
   ]
  },
  {
   "cell_type": "code",
   "execution_count": 35,
   "metadata": {
    "collapsed": true
   },
   "outputs": [
    {
     "data": {
      "text/plain": [
       "torch.Size([64, 10])"
      ]
     },
     "execution_count": 35,
     "metadata": {},
     "output_type": "execute_result"
    }
   ],
   "source": [
    "## Your solution\n",
    "def activation_func(x):\n",
    "    return 1/(1+torch.exp(-x))\n",
    "\n",
    "inputs = images.view(images.shape[0],-1)\n",
    "\n",
    "W1 = torch.randn(784,256)\n",
    "W2 = torch.randn(256,10)\n",
    "\n",
    "B1 = torch.randn(256)\n",
    "B2 = torch.randn(10)\n",
    "\n",
    "out1 = activation_func(torch.mm(inputs,W1) + B1)\n",
    "out = activation_func(torch.mm(out1,W2) + B2)\n",
    "\n",
    "out.size()# output of your network, should have shape (64,10)\n"
   ]
  },
  {
   "cell_type": "code",
   "execution_count": 36,
   "metadata": {},
   "outputs": [
    {
     "data": {
      "text/plain": [
       "tensor([[1.0000e+00, 9.9845e-01, 9.9996e-01, 9.9928e-01, 3.6594e-01, 9.5439e-02,\n",
       "         6.4511e-02, 9.2691e-01, 9.0944e-10, 2.4721e-08],\n",
       "        [1.0000e+00, 9.8038e-01, 9.9413e-01, 9.7231e-01, 9.9992e-01, 9.9999e-01,\n",
       "         2.8027e-03, 9.9688e-01, 5.9961e-10, 5.8887e-09],\n",
       "        [9.9975e-01, 9.9978e-01, 9.7475e-01, 9.9305e-01, 9.9998e-01, 1.0000e+00,\n",
       "         5.0213e-01, 1.2539e-02, 1.0390e-06, 3.2812e-08],\n",
       "        [1.0000e+00, 9.9995e-01, 2.6769e-01, 9.7362e-01, 9.9947e-01, 9.7798e-01,\n",
       "         2.3565e-01, 9.7181e-01, 1.6973e-08, 4.1449e-09],\n",
       "        [9.9957e-01, 9.9795e-01, 9.9067e-01, 9.9998e-01, 1.0000e+00, 9.9997e-01,\n",
       "         2.1964e-02, 8.3099e-01, 1.6345e-10, 1.1129e-09],\n",
       "        [1.0000e+00, 9.9960e-01, 9.7493e-01, 9.9999e-01, 9.9374e-01, 1.0000e+00,\n",
       "         6.1320e-01, 9.4187e-01, 1.9152e-08, 2.2629e-06],\n",
       "        [9.9999e-01, 9.9999e-01, 9.9835e-01, 8.3893e-03, 1.0000e+00, 9.9999e-01,\n",
       "         4.7676e-05, 9.9837e-01, 4.0178e-08, 2.4813e-10],\n",
       "        [1.0000e+00, 9.9998e-01, 8.8849e-01, 9.9737e-01, 9.9952e-01, 7.5298e-01,\n",
       "         7.0608e-01, 2.6360e-01, 1.1473e-11, 1.0637e-06],\n",
       "        [1.0000e+00, 9.9933e-01, 9.9998e-01, 6.8623e-01, 6.5357e-01, 9.9351e-01,\n",
       "         1.2586e-03, 9.9994e-01, 7.7506e-09, 2.3471e-06],\n",
       "        [1.0000e+00, 5.3402e-02, 9.9438e-01, 9.7694e-01, 9.8472e-01, 9.9997e-01,\n",
       "         1.9504e-06, 9.9826e-01, 1.6431e-10, 1.9202e-11],\n",
       "        [9.9999e-01, 9.5455e-01, 9.9754e-01, 9.9962e-01, 9.9999e-01, 3.7013e-01,\n",
       "         2.5410e-03, 1.1955e-01, 2.1105e-09, 6.9937e-07],\n",
       "        [4.2966e-02, 7.7143e-03, 8.6231e-01, 9.9945e-01, 9.9990e-01, 6.1303e-01,\n",
       "         1.8412e-07, 6.0235e-01, 6.1751e-09, 2.3269e-11],\n",
       "        [1.0000e+00, 8.9706e-01, 9.9825e-01, 2.2955e-01, 9.9960e-01, 9.9946e-01,\n",
       "         3.6181e-08, 9.4843e-01, 7.4332e-08, 7.8751e-09],\n",
       "        [9.9995e-01, 9.9956e-01, 9.3273e-01, 7.8159e-01, 9.9640e-01, 9.9996e-01,\n",
       "         5.1054e-07, 2.2641e-01, 6.6742e-11, 1.1109e-11],\n",
       "        [1.0000e+00, 9.9854e-01, 1.0000e+00, 7.4379e-01, 1.0000e+00, 4.4185e-01,\n",
       "         3.4119e-04, 5.8504e-01, 1.7729e-10, 1.0958e-09],\n",
       "        [9.9997e-01, 9.4655e-01, 9.9977e-01, 8.2335e-04, 9.9994e-01, 9.9994e-01,\n",
       "         3.9980e-03, 5.3915e-01, 1.2595e-10, 1.5145e-10],\n",
       "        [1.0000e+00, 7.7540e-01, 9.9978e-01, 9.9721e-01, 9.9631e-01, 9.9359e-01,\n",
       "         7.8150e-09, 9.9998e-01, 1.4375e-08, 2.9742e-10],\n",
       "        [1.0000e+00, 5.9437e-03, 9.9984e-01, 9.9998e-01, 1.0000e+00, 9.8469e-01,\n",
       "         3.7482e-07, 9.9918e-01, 7.9218e-11, 4.4963e-10],\n",
       "        [1.0000e+00, 1.0000e+00, 5.9672e-03, 7.5450e-01, 2.0523e-01, 9.9892e-01,\n",
       "         9.9992e-01, 1.1423e-01, 3.7375e-12, 4.2787e-08],\n",
       "        [1.0000e+00, 9.9954e-01, 9.9899e-01, 9.6805e-01, 9.9982e-01, 9.0584e-01,\n",
       "         7.5801e-03, 4.4997e-01, 2.1504e-08, 4.2111e-08],\n",
       "        [1.0000e+00, 9.8907e-01, 9.9999e-01, 9.9997e-01, 9.9980e-01, 7.4464e-01,\n",
       "         1.2811e-02, 9.6343e-01, 2.8021e-09, 5.9881e-07],\n",
       "        [1.0000e+00, 9.9775e-01, 9.4959e-01, 2.9406e-01, 9.9998e-01, 3.6080e-01,\n",
       "         1.2689e-01, 8.7863e-01, 6.0293e-12, 2.9849e-09],\n",
       "        [1.0000e+00, 1.0000e+00, 5.0868e-01, 2.7210e-01, 9.9869e-01, 9.9529e-01,\n",
       "         4.2925e-04, 9.1221e-02, 1.2215e-10, 4.7181e-06],\n",
       "        [1.0000e+00, 9.9987e-01, 9.9998e-01, 8.8615e-01, 9.9919e-01, 9.9998e-01,\n",
       "         5.4903e-01, 9.8799e-01, 8.6432e-13, 4.7902e-08],\n",
       "        [9.9977e-01, 9.9059e-01, 9.9941e-01, 9.9711e-01, 9.9990e-01, 9.9998e-01,\n",
       "         2.5934e-04, 3.8028e-03, 2.5963e-09, 1.2036e-10],\n",
       "        [9.9922e-01, 8.0327e-01, 9.9950e-01, 1.0000e+00, 1.0000e+00, 1.0000e+00,\n",
       "         8.7419e-01, 2.5157e-01, 2.5896e-08, 4.8135e-08],\n",
       "        [9.9999e-01, 1.2066e-03, 9.6155e-01, 9.9977e-01, 9.9999e-01, 9.9995e-01,\n",
       "         1.9785e-02, 1.4626e-02, 5.4260e-09, 4.8026e-09],\n",
       "        [9.9992e-01, 1.0000e+00, 8.9480e-01, 4.2141e-01, 9.9627e-01, 1.9733e-01,\n",
       "         2.0615e-01, 7.2004e-02, 2.4896e-11, 1.7470e-08],\n",
       "        [7.6319e-01, 7.6363e-02, 1.4248e-02, 1.0000e+00, 2.9603e-01, 9.9569e-01,\n",
       "         5.1032e-02, 5.0827e-03, 2.0445e-12, 1.6935e-09],\n",
       "        [1.0000e+00, 9.9999e-01, 9.9979e-01, 9.4788e-01, 9.9948e-01, 9.9224e-01,\n",
       "         9.6451e-06, 9.9669e-01, 4.1659e-10, 7.0768e-07],\n",
       "        [1.0000e+00, 9.9990e-01, 1.0000e+00, 2.4921e-01, 9.9961e-01, 9.9923e-01,\n",
       "         5.2772e-01, 2.0282e-01, 4.0674e-11, 1.2734e-08],\n",
       "        [9.9951e-01, 9.9807e-01, 9.9998e-01, 1.8397e-02, 1.0000e+00, 5.4975e-01,\n",
       "         1.0639e-04, 9.9904e-01, 1.9666e-10, 1.7179e-12],\n",
       "        [9.9322e-01, 9.6004e-01, 9.9798e-01, 9.9998e-01, 9.9807e-01, 9.9831e-01,\n",
       "         3.0564e-03, 9.9987e-01, 6.0597e-08, 3.2440e-11],\n",
       "        [1.0000e+00, 9.9095e-01, 9.9397e-01, 9.2976e-01, 9.9852e-01, 9.9967e-01,\n",
       "         4.3301e-02, 6.6274e-01, 2.5694e-07, 3.1131e-09],\n",
       "        [1.0000e+00, 4.8673e-01, 9.9142e-01, 9.9998e-01, 1.0000e+00, 9.8983e-01,\n",
       "         5.9564e-02, 9.9867e-01, 5.1091e-14, 5.4980e-07],\n",
       "        [1.0000e+00, 9.4988e-01, 9.9679e-01, 9.9956e-01, 9.9780e-01, 1.0000e+00,\n",
       "         4.2496e-04, 6.3341e-01, 4.2585e-09, 4.5967e-08],\n",
       "        [1.0000e+00, 9.9991e-01, 7.1207e-01, 9.7311e-01, 6.1664e-01, 9.3322e-01,\n",
       "         9.8857e-01, 9.9864e-01, 2.5725e-12, 1.7929e-06],\n",
       "        [1.0000e+00, 9.9862e-01, 9.9949e-01, 1.0000e+00, 9.9998e-01, 9.9999e-01,\n",
       "         4.4248e-05, 9.8669e-01, 9.6797e-11, 1.4797e-10],\n",
       "        [1.0000e+00, 9.9985e-01, 9.6076e-01, 9.7275e-01, 9.9418e-01, 8.9928e-01,\n",
       "         1.5547e-02, 9.9141e-01, 2.4656e-08, 3.5437e-09],\n",
       "        [1.0000e+00, 2.0277e-01, 9.9987e-01, 9.9999e-01, 9.1759e-01, 9.8991e-01,\n",
       "         5.0118e-04, 3.8146e-01, 6.8837e-12, 2.3333e-05],\n",
       "        [1.0000e+00, 9.7696e-01, 9.9765e-01, 9.9904e-01, 8.7766e-01, 9.6988e-01,\n",
       "         1.9091e-05, 9.9997e-01, 6.6974e-12, 1.8062e-08],\n",
       "        [9.9999e-01, 3.9767e-01, 6.7260e-01, 9.9985e-01, 9.9953e-01, 1.0000e+00,\n",
       "         8.6700e-04, 9.4900e-01, 1.0154e-09, 8.5339e-11],\n",
       "        [1.0000e+00, 6.7088e-02, 4.1035e-01, 1.0000e+00, 6.9703e-01, 9.9999e-01,\n",
       "         5.6925e-02, 9.7692e-01, 8.1039e-13, 9.5516e-10],\n",
       "        [1.0000e+00, 9.9936e-01, 9.9991e-01, 9.9999e-01, 9.9893e-01, 1.0000e+00,\n",
       "         4.5070e-02, 9.9551e-01, 1.4368e-11, 2.7305e-08],\n",
       "        [9.9992e-01, 9.9997e-01, 9.9934e-01, 9.9744e-01, 9.8111e-01, 9.9879e-01,\n",
       "         3.1456e-04, 9.8801e-01, 1.7048e-10, 7.7840e-09],\n",
       "        [1.0000e+00, 9.9999e-01, 9.6173e-01, 4.6139e-02, 9.9860e-01, 9.8904e-01,\n",
       "         1.1927e-01, 9.1808e-01, 1.9563e-08, 1.4100e-08],\n",
       "        [9.9806e-01, 2.6322e-02, 1.3610e-01, 1.0000e+00, 1.0000e+00, 9.9763e-01,\n",
       "         1.7775e-02, 9.9736e-01, 1.1418e-10, 2.5742e-10],\n",
       "        [1.0000e+00, 4.4757e-02, 9.8173e-01, 9.9999e-01, 9.8256e-01, 9.9860e-01,\n",
       "         2.3120e-02, 2.4212e-01, 1.2319e-10, 5.8757e-13],\n",
       "        [4.7667e-01, 9.8483e-01, 3.0419e-02, 9.9958e-01, 9.9610e-01, 9.9999e-01,\n",
       "         8.1611e-04, 8.3683e-01, 4.5807e-10, 1.3607e-07],\n",
       "        [1.0000e+00, 9.9900e-01, 9.9955e-01, 9.9816e-01, 4.0850e-01, 9.9988e-01,\n",
       "         2.2646e-06, 9.8995e-01, 2.9753e-10, 6.2499e-11],\n",
       "        [9.9969e-01, 9.9993e-01, 9.5270e-01, 1.0000e+00, 9.9997e-01, 8.7304e-01,\n",
       "         5.2965e-04, 9.9477e-01, 1.8210e-09, 4.8383e-11],\n",
       "        [9.9980e-01, 9.8360e-01, 9.3431e-01, 9.9970e-01, 9.9899e-01, 7.6677e-01,\n",
       "         1.2867e-03, 2.7073e-01, 1.7708e-10, 4.3757e-12],\n",
       "        [9.9536e-01, 9.9967e-01, 9.8887e-01, 9.9993e-01, 9.8744e-01, 1.0000e+00,\n",
       "         1.7366e-02, 9.9693e-01, 1.9438e-07, 7.1064e-10],\n",
       "        [1.0000e+00, 3.4645e-01, 1.3816e-02, 1.0000e+00, 9.5486e-01, 9.9995e-01,\n",
       "         3.8801e-04, 9.7844e-01, 1.6882e-11, 8.8000e-06],\n",
       "        [1.0000e+00, 7.7471e-01, 1.0000e+00, 3.7322e-02, 9.9997e-01, 8.9967e-01,\n",
       "         9.4807e-04, 9.9990e-01, 5.0083e-09, 4.3293e-04],\n",
       "        [1.0000e+00, 6.6931e-01, 1.0000e+00, 9.9978e-01, 9.9977e-01, 9.6212e-01,\n",
       "         5.1343e-07, 9.0659e-02, 1.8398e-08, 2.4249e-10],\n",
       "        [1.0000e+00, 9.8733e-01, 9.6852e-01, 4.5923e-02, 9.9973e-01, 9.7992e-01,\n",
       "         2.0249e-05, 9.9944e-01, 1.0310e-10, 8.1345e-08],\n",
       "        [1.0000e+00, 9.9998e-01, 1.0000e+00, 8.9714e-01, 9.9979e-01, 2.0210e-01,\n",
       "         5.0688e-03, 1.0000e+00, 1.0961e-08, 1.0188e-08],\n",
       "        [1.0000e+00, 9.9970e-01, 9.9995e-01, 5.0572e-01, 4.9630e-01, 3.2118e-02,\n",
       "         8.0699e-01, 9.5332e-01, 6.7649e-08, 7.5761e-06],\n",
       "        [9.9672e-01, 3.3585e-01, 8.4093e-01, 9.9997e-01, 9.9986e-01, 3.8764e-02,\n",
       "         1.2321e-01, 7.3846e-01, 1.2870e-08, 2.0466e-09],\n",
       "        [9.9992e-01, 2.0258e-01, 9.6750e-01, 8.3984e-01, 1.0000e+00, 9.9770e-01,\n",
       "         2.2061e-04, 5.4655e-01, 2.5793e-06, 5.0107e-11],\n",
       "        [9.9997e-01, 5.7113e-01, 9.1006e-01, 6.0599e-01, 9.9941e-01, 9.9809e-01,\n",
       "         8.8611e-04, 2.2349e-01, 1.8576e-12, 9.4127e-08],\n",
       "        [1.0000e+00, 9.9693e-01, 9.9993e-01, 9.9974e-01, 1.0000e+00, 8.2713e-02,\n",
       "         1.1933e-04, 9.2337e-01, 1.1549e-10, 6.0433e-11],\n",
       "        [4.8209e-07, 8.3102e-01, 5.8965e-03, 9.9822e-01, 1.0000e+00, 5.4351e-01,\n",
       "         8.7286e-03, 4.2745e-01, 1.5551e-09, 3.6765e-09]])"
      ]
     },
     "execution_count": 36,
     "metadata": {},
     "output_type": "execute_result"
    }
   ],
   "source": [
    "out"
   ]
  },
  {
   "cell_type": "markdown",
   "metadata": {},
   "source": [
    "Now we have 10 outputs for our network. We want to pass in an image to our network and get out a probability distribution over the classes that tells us the likely class(es) the image belongs to. Something that looks like this:\n",
    "<img src='assets/image_distribution.png' width=500px>\n",
    "\n",
    "Here we see that the probability for each class is roughly the same. This is representing an untrained network, it hasn't seen any data yet so it just returns a uniform distribution with equal probabilities for each class.\n",
    "\n",
    "To calculate this probability distribution, we often use the [**softmax** function](https://en.wikipedia.org/wiki/Softmax_function). Mathematically this looks like\n",
    "\n",
    "$$\n",
    "\\Large \\sigma(x_i) = \\cfrac{e^{x_i}}{\\sum_k^K{e^{x_k}}}\n",
    "$$\n",
    "\n",
    "What this does is squish each input $x_i$ between 0 and 1 and normalizes the values to give you a proper probability distribution where the probabilites sum up to one.\n",
    "\n",
    "> **Exercise:** Implement a function `softmax` that performs the softmax calculation and returns probability distributions for each example in the batch. Note that you'll need to pay attention to the shapes when doing this. If you have a tensor `a` with shape `(64, 10)` and a tensor `b` with shape `(64,)`, doing `a/b` will give you an error because PyTorch will try to do the division across the columns (called broadcasting) but you'll get a size mismatch. The way to think about this is for each of the 64 examples, you only want to divide by one value, the sum in the denominator. So you need `b` to have a shape of `(64, 1)`. This way PyTorch will divide the 10 values in each row of `a` by the one value in each row of `b`. Pay attention to how you take the sum as well. You'll need to define the `dim` keyword in `torch.sum`. Setting `dim=0` takes the sum across the rows while `dim=1` takes the sum across the columns."
   ]
  },
  {
   "cell_type": "code",
   "execution_count": 37,
   "metadata": {
    "collapsed": true
   },
   "outputs": [
    {
     "ename": "RuntimeError",
     "evalue": "The size of tensor a (10) must match the size of tensor b (64) at non-singleton dimension 1",
     "output_type": "error",
     "traceback": [
      "\u001b[0;31m---------------------------------------------------------------------------\u001b[0m",
      "\u001b[0;31mRuntimeError\u001b[0m                              Traceback (most recent call last)",
      "Cell \u001b[0;32mIn[37], line 6\u001b[0m\n\u001b[1;32m      3\u001b[0m     torch\u001b[38;5;241m.\u001b[39mexp(x)\u001b[38;5;241m/\u001b[39mtorch\u001b[38;5;241m.\u001b[39msum(torch\u001b[38;5;241m.\u001b[39mexp(x),dim\u001b[38;5;241m=\u001b[39m\u001b[38;5;241m1\u001b[39m)\n\u001b[1;32m      5\u001b[0m \u001b[38;5;66;03m# Here, out should be the output of the network in the previous excercise with shape (64,10)\u001b[39;00m\n\u001b[0;32m----> 6\u001b[0m probabilities \u001b[38;5;241m=\u001b[39m \u001b[43msoftmax\u001b[49m\u001b[43m(\u001b[49m\u001b[43mout\u001b[49m\u001b[43m)\u001b[49m\n\u001b[1;32m      8\u001b[0m \u001b[38;5;66;03m# Does it have the right shape? Should be (64, 10)\u001b[39;00m\n\u001b[1;32m      9\u001b[0m \u001b[38;5;28mprint\u001b[39m(probabilities\u001b[38;5;241m.\u001b[39mshape)\n",
      "Cell \u001b[0;32mIn[37], line 3\u001b[0m, in \u001b[0;36msoftmax\u001b[0;34m(x)\u001b[0m\n\u001b[1;32m      1\u001b[0m \u001b[38;5;28;01mdef\u001b[39;00m \u001b[38;5;21msoftmax\u001b[39m(x):\n\u001b[1;32m      2\u001b[0m     \u001b[38;5;66;03m## TODO: Implement the softmax function here\u001b[39;00m\n\u001b[0;32m----> 3\u001b[0m     \u001b[43mtorch\u001b[49m\u001b[38;5;241;43m.\u001b[39;49m\u001b[43mexp\u001b[49m\u001b[43m(\u001b[49m\u001b[43mx\u001b[49m\u001b[43m)\u001b[49m\u001b[38;5;241;43m/\u001b[39;49m\u001b[43mtorch\u001b[49m\u001b[38;5;241;43m.\u001b[39;49m\u001b[43msum\u001b[49m\u001b[43m(\u001b[49m\u001b[43mtorch\u001b[49m\u001b[38;5;241;43m.\u001b[39;49m\u001b[43mexp\u001b[49m\u001b[43m(\u001b[49m\u001b[43mx\u001b[49m\u001b[43m)\u001b[49m\u001b[43m,\u001b[49m\u001b[43mdim\u001b[49m\u001b[38;5;241;43m=\u001b[39;49m\u001b[38;5;241;43m1\u001b[39;49m\u001b[43m)\u001b[49m\n",
      "\u001b[0;31mRuntimeError\u001b[0m: The size of tensor a (10) must match the size of tensor b (64) at non-singleton dimension 1"
     ]
    }
   ],
   "source": [
    "def softmax(x):\n",
    "    ## TODO: Implement the softmax function here\n",
    "    torch.exp(x)/torch.sum(torch.exp(x),dim=1)\n",
    "\n",
    "# Here, out should be the output of the network in the previous excercise with shape (64,10)\n",
    "probabilities = softmax(out)\n",
    "\n",
    "# Does it have the right shape? Should be (64, 10)\n",
    "print(probabilities.shape)\n",
    "# Does it sum to 1?\n",
    "print(probabilities.sum(dim=1))"
   ]
  },
  {
   "cell_type": "markdown",
   "metadata": {},
   "source": [
    "## Building networks with PyTorch\n",
    "\n",
    "PyTorch provides a module `nn` that makes building networks much simpler. Here I'll show you how to build the same one as above with 784 inputs, 256 hidden units, 10 output units and a softmax output."
   ]
  },
  {
   "cell_type": "code",
   "execution_count": 38,
   "metadata": {
    "collapsed": true
   },
   "outputs": [],
   "source": [
    "from torch import nn"
   ]
  },
  {
   "cell_type": "code",
   "execution_count": 39,
   "metadata": {
    "collapsed": true
   },
   "outputs": [],
   "source": [
    "class Network(nn.Module):\n",
    "    def __init__(self):\n",
    "        super().__init__()\n",
    "        \n",
    "        # Inputs to hidden layer linear transformation\n",
    "        self.hidden = nn.Linear(784, 256)\n",
    "        # Output layer, 10 units - one for each digit\n",
    "        self.output = nn.Linear(256, 10)\n",
    "        \n",
    "        # Define sigmoid activation and softmax output \n",
    "        self.sigmoid = nn.Sigmoid()\n",
    "        self.softmax = nn.Softmax(dim=1)\n",
    "        \n",
    "    def forward(self, x):\n",
    "        # Pass the input tensor through each of our operations\n",
    "        x = self.hidden(x)\n",
    "        x = self.sigmoid(x)\n",
    "        x = self.output(x)\n",
    "        x = self.softmax(x)\n",
    "        \n",
    "        return x"
   ]
  },
  {
   "cell_type": "markdown",
   "metadata": {},
   "source": [
    "Let's go through this bit by bit.\n",
    "\n",
    "```python\n",
    "class Network(nn.Module):\n",
    "```\n",
    "\n",
    "Here we're inheriting from `nn.Module`. Combined with `super().__init__()` this creates a class that tracks the architecture and provides a lot of useful methods and attributes. It is mandatory to inherit from `nn.Module` when you're creating a class for your network. The name of the class itself can be anything.\n",
    "\n",
    "```python\n",
    "self.hidden = nn.Linear(784, 256)\n",
    "```\n",
    "\n",
    "This line creates a module for a linear transformation, $x\\mathbf{W} + b$, with 784 inputs and 256 outputs and assigns it to `self.hidden`. The module automatically creates the weight and bias tensors which we'll use in the `forward` method. You can access the weight and bias tensors once the network (`net`) is created with `net.hidden.weight` and `net.hidden.bias`.\n",
    "\n",
    "```python\n",
    "self.output = nn.Linear(256, 10)\n",
    "```\n",
    "\n",
    "Similarly, this creates another linear transformation with 256 inputs and 10 outputs.\n",
    "\n",
    "```python\n",
    "self.sigmoid = nn.Sigmoid()\n",
    "self.softmax = nn.Softmax(dim=1)\n",
    "```\n",
    "\n",
    "Here I defined operations for the sigmoid activation and softmax output. Setting `dim=1` in `nn.Softmax(dim=1)` calculates softmax across the columns.\n",
    "\n",
    "```python\n",
    "def forward(self, x):\n",
    "```\n",
    "\n",
    "PyTorch networks created with `nn.Module` must have a `forward` method defined. It takes in a tensor `x` and passes it through the operations you defined in the `__init__` method.\n",
    "\n",
    "```python\n",
    "x = self.hidden(x)\n",
    "x = self.sigmoid(x)\n",
    "x = self.output(x)\n",
    "x = self.softmax(x)\n",
    "```\n",
    "\n",
    "Here the input tensor `x` is passed through each operation and reassigned to `x`. We can see that the input tensor goes through the hidden layer, then a sigmoid function, then the output layer, and finally the softmax function. It doesn't matter what you name the variables here, as long as the inputs and outputs of the operations match the network architecture you want to build. The order in which you define things in the `__init__` method doesn't matter, but you'll need to sequence the operations correctly in the `forward` method.\n",
    "\n",
    "Now we can create a `Network` object."
   ]
  },
  {
   "cell_type": "code",
   "execution_count": 40,
   "metadata": {
    "collapsed": true
   },
   "outputs": [
    {
     "data": {
      "text/plain": [
       "Network(\n",
       "  (hidden): Linear(in_features=784, out_features=256, bias=True)\n",
       "  (output): Linear(in_features=256, out_features=10, bias=True)\n",
       "  (sigmoid): Sigmoid()\n",
       "  (softmax): Softmax(dim=1)\n",
       ")"
      ]
     },
     "execution_count": 40,
     "metadata": {},
     "output_type": "execute_result"
    }
   ],
   "source": [
    "# Create the network and look at it's text representation\n",
    "model = Network()\n",
    "model"
   ]
  },
  {
   "cell_type": "code",
   "execution_count": 41,
   "metadata": {},
   "outputs": [],
   "source": [
    "# My try\n",
    "class Neural_Network(nn.Module):\n",
    "    def __init__(self):\n",
    "        super().__init__()\n",
    "    \n",
    "    # Now define layers\n",
    "        self.hidden = nn.Linear(784,256)\n",
    "        self.output = nn.Linear(256,10)\n",
    "    \n",
    "    #Now bias\n",
    "        self.sigmoid = nn.Sigmoid()\n",
    "        self.softmax = nn.Softmax(dim = 1)\n",
    "    \n",
    "    def forward_nn(self,x):\n",
    "        x = self.hidden(x)\n",
    "        x = self.sigmoid(x)\n",
    "        x = self.output(x)\n",
    "        x = self.softmax(x)\n",
    "\n",
    "        return x"
   ]
  },
  {
   "cell_type": "markdown",
   "metadata": {},
   "source": [
    "You can define the network somewhat more concisely and clearly using the `torch.nn.functional` module. This is the most common way you'll see networks defined as many operations are simple element-wise functions. We normally import this module as `F`, `import torch.nn.functional as F`."
   ]
  },
  {
   "cell_type": "code",
   "execution_count": 42,
   "metadata": {
    "collapsed": true
   },
   "outputs": [],
   "source": [
    "import torch.nn.functional as F\n",
    "\n",
    "class Network(nn.Module):\n",
    "    def __init__(self):\n",
    "        super().__init__()\n",
    "        # Inputs to hidden layer linear transformation\n",
    "        self.hidden = nn.Linear(784, 256)\n",
    "        # Output layer, 10 units - one for each digit\n",
    "        self.output = nn.Linear(256, 10)\n",
    "        \n",
    "    def forward(self, x):\n",
    "        # Hidden layer with sigmoid activation\n",
    "        x = F.sigmoid(self.hidden(x))\n",
    "        # Output layer with softmax activation\n",
    "        x = F.softmax(self.output(x), dim=1)\n",
    "        \n",
    "        return x"
   ]
  },
  {
   "cell_type": "markdown",
   "metadata": {},
   "source": [
    "### Activation functions\n",
    "\n",
    "So far we've only been looking at the sigmoid activation function, but in general any function can be used as an activation function. The only requirement is that for a network to approximate a non-linear function, the activation functions must be non-linear. Here are a few more examples of common activation functions: Tanh (hyperbolic tangent), and ReLU (rectified linear unit).\n",
    "\n",
    "<img src=\"assets/activation.png\" width=700px>\n",
    "\n",
    "In practice, the ReLU function is used almost exclusively as the activation function for hidden layers."
   ]
  },
  {
   "cell_type": "markdown",
   "metadata": {},
   "source": [
    "### Your Turn to Build a Network\n",
    "\n",
    "<img src=\"assets/mlp_mnist.png\" width=600px>\n",
    "\n",
    "> **Exercise:** Create a network with 784 input units, a hidden layer with 128 units and a ReLU activation, then a hidden layer with 64 units and a ReLU activation, and finally an output layer with a softmax activation as shown above. You can use a ReLU activation with the `nn.ReLU` module or `F.relu` function.\n",
    "\n",
    "It's good practice to name your layers by their type of network, for instance 'fc' to represent a fully-connected layer. As you code your solution, use `fc1`, `fc2`, and `fc3` as your layer names."
   ]
  },
  {
   "cell_type": "code",
   "execution_count": 43,
   "metadata": {
    "collapsed": true,
    "scrolled": true
   },
   "outputs": [
    {
     "data": {
      "text/plain": [
       "Network(\n",
       "  (fc1): Linear(in_features=784, out_features=128, bias=True)\n",
       "  (fc2): Linear(in_features=128, out_features=64, bias=True)\n",
       "  (fc3): Linear(in_features=64, out_features=1, bias=True)\n",
       ")"
      ]
     },
     "execution_count": 43,
     "metadata": {},
     "output_type": "execute_result"
    }
   ],
   "source": [
    "## Your solution here\n",
    "import torch.nn.functional as F\n",
    "class Network(nn.Module):\n",
    "    def __init__(self):\n",
    "        super().__init__()\n",
    "        self.fc1 = nn.Linear(784,128)\n",
    "        self.fc2 = nn.Linear(128,64)\n",
    "        self.fc3 = nn.Linear(64,1)\n",
    "\n",
    "def forward(self,x):\n",
    "    x = F.relu(self.fc1)\n",
    "    x = F.relu(self.fc2)\n",
    "    x = F.softmax(self.fc3, dim=1)\n",
    "\n",
    "    return x\n",
    "\n",
    "model = Network()\n",
    "model\n"
   ]
  },
  {
   "cell_type": "markdown",
   "metadata": {},
   "source": [
    "### Initializing weights and biases\n",
    "\n",
    "The weights and such are automatically initialized for you, but it's possible to customize how they are initialized. The weights and biases are tensors attached to the layer you defined, you can get them with `model.fc1.weight` for instance."
   ]
  },
  {
   "cell_type": "code",
   "execution_count": 44,
   "metadata": {
    "collapsed": true
   },
   "outputs": [
    {
     "name": "stdout",
     "output_type": "stream",
     "text": [
      "Parameter containing:\n",
      "tensor([[ 0.0138, -0.0106, -0.0324,  ..., -0.0129, -0.0191,  0.0213],\n",
      "        [-0.0208, -0.0153, -0.0099,  ..., -0.0301, -0.0030, -0.0046],\n",
      "        [ 0.0354,  0.0155, -0.0233,  ..., -0.0192,  0.0090, -0.0017],\n",
      "        ...,\n",
      "        [ 0.0109, -0.0057, -0.0257,  ...,  0.0326,  0.0316, -0.0344],\n",
      "        [-0.0331, -0.0207, -0.0317,  ...,  0.0115, -0.0013, -0.0087],\n",
      "        [ 0.0076, -0.0296, -0.0155,  ..., -0.0127, -0.0215, -0.0187]],\n",
      "       requires_grad=True)\n",
      "Parameter containing:\n",
      "tensor([-0.0261,  0.0229,  0.0274,  0.0313, -0.0355,  0.0147,  0.0223,  0.0258,\n",
      "         0.0105, -0.0009, -0.0064,  0.0340, -0.0159, -0.0091, -0.0265,  0.0101,\n",
      "         0.0317, -0.0219, -0.0108, -0.0267,  0.0228,  0.0081, -0.0101,  0.0200,\n",
      "        -0.0143, -0.0235, -0.0199,  0.0063,  0.0203, -0.0104,  0.0162, -0.0217,\n",
      "         0.0274,  0.0062,  0.0013,  0.0081, -0.0243, -0.0134,  0.0040,  0.0195,\n",
      "         0.0316,  0.0034, -0.0045, -0.0201,  0.0329,  0.0339,  0.0311, -0.0304,\n",
      "        -0.0355, -0.0313,  0.0048, -0.0331, -0.0082, -0.0173,  0.0099,  0.0128,\n",
      "         0.0263,  0.0211,  0.0283,  0.0098, -0.0339, -0.0213,  0.0133, -0.0331,\n",
      "         0.0274,  0.0104, -0.0299,  0.0236, -0.0327, -0.0008, -0.0080, -0.0242,\n",
      "        -0.0341,  0.0091,  0.0343,  0.0085,  0.0154, -0.0357,  0.0196,  0.0321,\n",
      "        -0.0134,  0.0314,  0.0271, -0.0065,  0.0057, -0.0155,  0.0156, -0.0099,\n",
      "         0.0127,  0.0107, -0.0225,  0.0348, -0.0009,  0.0204, -0.0348,  0.0051,\n",
      "        -0.0286,  0.0311, -0.0014, -0.0085,  0.0214,  0.0349, -0.0185, -0.0252,\n",
      "         0.0030,  0.0081, -0.0317,  0.0174, -0.0130, -0.0186,  0.0206, -0.0174,\n",
      "         0.0130,  0.0298,  0.0263, -0.0011, -0.0150, -0.0088,  0.0184, -0.0173,\n",
      "        -0.0239, -0.0244,  0.0306, -0.0212,  0.0290,  0.0353, -0.0269,  0.0326],\n",
      "       requires_grad=True)\n"
     ]
    }
   ],
   "source": [
    "print(model.fc1.weight)\n",
    "print(model.fc1.bias)"
   ]
  },
  {
   "cell_type": "markdown",
   "metadata": {},
   "source": [
    "For custom initialization, we want to modify these tensors in place. These are actually autograd *Variables*, so we need to get back the actual tensors with `model.fc1.weight.data`. Once we have the tensors, we can fill them with zeros (for biases) or random normal values."
   ]
  },
  {
   "cell_type": "code",
   "execution_count": 45,
   "metadata": {
    "collapsed": true
   },
   "outputs": [
    {
     "data": {
      "text/plain": [
       "tensor([0., 0., 0., 0., 0., 0., 0., 0., 0., 0., 0., 0., 0., 0., 0., 0., 0., 0., 0., 0., 0., 0., 0., 0.,\n",
       "        0., 0., 0., 0., 0., 0., 0., 0., 0., 0., 0., 0., 0., 0., 0., 0., 0., 0., 0., 0., 0., 0., 0., 0.,\n",
       "        0., 0., 0., 0., 0., 0., 0., 0., 0., 0., 0., 0., 0., 0., 0., 0., 0., 0., 0., 0., 0., 0., 0., 0.,\n",
       "        0., 0., 0., 0., 0., 0., 0., 0., 0., 0., 0., 0., 0., 0., 0., 0., 0., 0., 0., 0., 0., 0., 0., 0.,\n",
       "        0., 0., 0., 0., 0., 0., 0., 0., 0., 0., 0., 0., 0., 0., 0., 0., 0., 0., 0., 0., 0., 0., 0., 0.,\n",
       "        0., 0., 0., 0., 0., 0., 0., 0.])"
      ]
     },
     "execution_count": 45,
     "metadata": {},
     "output_type": "execute_result"
    }
   ],
   "source": [
    "# Set biases to all zeros\n",
    "model.fc1.bias.data.fill_(0)"
   ]
  },
  {
   "cell_type": "code",
   "execution_count": 46,
   "metadata": {
    "collapsed": true
   },
   "outputs": [
    {
     "data": {
      "text/plain": [
       "tensor([[ 0.0090,  0.0071,  0.0040,  ...,  0.0047,  0.0097,  0.0067],\n",
       "        [-0.0076,  0.0086,  0.0032,  ..., -0.0169, -0.0063, -0.0045],\n",
       "        [ 0.0069, -0.0075,  0.0169,  ..., -0.0042,  0.0015,  0.0018],\n",
       "        ...,\n",
       "        [ 0.0019, -0.0049,  0.0193,  ..., -0.0088, -0.0078,  0.0123],\n",
       "        [ 0.0151,  0.0008, -0.0061,  ..., -0.0051,  0.0103,  0.0105],\n",
       "        [-0.0061,  0.0094,  0.0059,  ...,  0.0059, -0.0083,  0.0053]])"
      ]
     },
     "execution_count": 46,
     "metadata": {},
     "output_type": "execute_result"
    }
   ],
   "source": [
    "# sample from random normal with standard dev = 0.01\n",
    "model.fc1.weight.data.normal_(std=0.01)"
   ]
  },
  {
   "cell_type": "markdown",
   "metadata": {},
   "source": [
    "### Forward pass\n",
    "\n",
    "Now that we have a network, let's see what happens when we pass in an image."
   ]
  },
  {
   "cell_type": "code",
   "execution_count": 47,
   "metadata": {
    "collapsed": true
   },
   "outputs": [
    {
     "ename": "AttributeError",
     "evalue": "'_SingleProcessDataLoaderIter' object has no attribute 'next'",
     "output_type": "error",
     "traceback": [
      "\u001b[0;31m---------------------------------------------------------------------------\u001b[0m",
      "\u001b[0;31mAttributeError\u001b[0m                            Traceback (most recent call last)",
      "Cell \u001b[0;32mIn[47], line 3\u001b[0m\n\u001b[1;32m      1\u001b[0m \u001b[38;5;66;03m# Grab some data \u001b[39;00m\n\u001b[1;32m      2\u001b[0m dataiter \u001b[38;5;241m=\u001b[39m \u001b[38;5;28miter\u001b[39m(trainloader)\n\u001b[0;32m----> 3\u001b[0m images, labels \u001b[38;5;241m=\u001b[39m \u001b[43mdataiter\u001b[49m\u001b[38;5;241;43m.\u001b[39;49m\u001b[43mnext\u001b[49m()\n\u001b[1;32m      5\u001b[0m \u001b[38;5;66;03m# Resize images into a 1D vector, new shape is (batch size, color channels, image pixels) \u001b[39;00m\n\u001b[1;32m      6\u001b[0m images\u001b[38;5;241m.\u001b[39mresize_(\u001b[38;5;241m64\u001b[39m, \u001b[38;5;241m1\u001b[39m, \u001b[38;5;241m784\u001b[39m)\n",
      "\u001b[0;31mAttributeError\u001b[0m: '_SingleProcessDataLoaderIter' object has no attribute 'next'"
     ]
    }
   ],
   "source": [
    "# Grab some data \n",
    "dataiter = iter(trainloader)\n",
    "images, labels = dataiter.next()\n",
    "\n",
    "# Resize images into a 1D vector, new shape is (batch size, color channels, image pixels) \n",
    "images.resize_(64, 1, 784)\n",
    "# or images.resize_(images.shape[0], 1, 784) to automatically get batch size\n",
    "\n",
    "# Forward pass through the network\n",
    "img_idx = 0\n",
    "ps = model.forward(images[img_idx,:])\n",
    "\n",
    "img = images[img_idx]\n",
    "helper.view_classify(img.view(1, 28, 28), ps)"
   ]
  },
  {
   "cell_type": "markdown",
   "metadata": {},
   "source": [
    "As you can see above, our network has basically no idea what this digit is. It's because we haven't trained it yet, all the weights are random!\n",
    "\n",
    "### Using `nn.Sequential`\n",
    "\n",
    "PyTorch provides a convenient way to build networks like this where a tensor is passed sequentially through operations, `nn.Sequential` ([documentation](https://pytorch.org/docs/master/nn.html#torch.nn.Sequential)). Using this to build the equivalent network:"
   ]
  },
  {
   "cell_type": "code",
   "execution_count": 48,
   "metadata": {
    "collapsed": true
   },
   "outputs": [
    {
     "name": "stdout",
     "output_type": "stream",
     "text": [
      "Sequential(\n",
      "  (0): Linear(in_features=784, out_features=128, bias=True)\n",
      "  (1): ReLU()\n",
      "  (2): Linear(in_features=128, out_features=64, bias=True)\n",
      "  (3): ReLU()\n",
      "  (4): Linear(in_features=64, out_features=10, bias=True)\n",
      "  (5): Softmax(dim=1)\n",
      ")\n"
     ]
    },
    {
     "data": {
      "image/png": "[encoded data removed]",
      "text/plain": [
       "<Figure size 600x900 with 2 Axes>"
      ]
     },
     "metadata": {
      "image/png": {
       "height": 327,
       "width": 589
      }
     },
     "output_type": "display_data"
    }
   ],
   "source": [
    "# Hyperparameters for our network\n",
    "input_size = 784\n",
    "hidden_sizes = [128, 64]\n",
    "output_size = 10\n",
    "\n",
    "# Build a feed-forward network\n",
    "model = nn.Sequential(nn.Linear(input_size, hidden_sizes[0]),\n",
    "                      nn.ReLU(),\n",
    "                      nn.Linear(hidden_sizes[0], hidden_sizes[1]),\n",
    "                      nn.ReLU(),\n",
    "                      nn.Linear(hidden_sizes[1], output_size),\n",
    "                      nn.Softmax(dim=1))\n",
    "print(model)\n",
    "\n",
    "# Forward pass through the network and display output\n",
    "images, labels = next(iter(trainloader))\n",
    "images.resize_(images.shape[0], 1, 784)\n",
    "ps = model.forward(images[0,:])\n",
    "helper.view_classify(images[0].view(1, 28, 28), ps)"
   ]
  },
  {
   "cell_type": "markdown",
   "metadata": {},
   "source": [
    "Here our model is the same as before: 784 input units, a hidden layer with 128 units, ReLU activation, 64 unit hidden layer, another ReLU, then the output layer with 10 units, and the softmax output.\n",
    "\n",
    "The operations are available by passing in the appropriate index. For example, if you want to get first Linear operation and look at the weights, you'd use `model[0]`."
   ]
  },
  {
   "cell_type": "code",
   "execution_count": null,
   "metadata": {
    "collapsed": true
   },
   "outputs": [],
   "source": [
    "print(model[0])\n",
    "model[0].weight"
   ]
  },
  {
   "cell_type": "markdown",
   "metadata": {},
   "source": [
    "You can also pass in an `OrderedDict` to name the individual layers and operations, instead of using incremental integers. Note that dictionary keys must be unique, so _each operation must have a different name_."
   ]
  },
  {
   "cell_type": "code",
   "execution_count": null,
   "metadata": {
    "collapsed": true
   },
   "outputs": [],
   "source": [
    "from collections import OrderedDict\n",
    "model = nn.Sequential(OrderedDict([\n",
    "                      ('fc1', nn.Linear(input_size, hidden_sizes[0])),\n",
    "                      ('relu1', nn.ReLU()),\n",
    "                      ('fc2', nn.Linear(hidden_sizes[0], hidden_sizes[1])),\n",
    "                      ('relu2', nn.ReLU()),\n",
    "                      ('output', nn.Linear(hidden_sizes[1], output_size)),\n",
    "                      ('softmax', nn.Softmax(dim=1))]))\n",
    "model"
   ]
  },
  {
   "cell_type": "markdown",
   "metadata": {},
   "source": [
    "Now you can access layers either by integer or the name"
   ]
  },
  {
   "cell_type": "code",
   "execution_count": null,
   "metadata": {
    "collapsed": true
   },
   "outputs": [],
   "source": [
    "print(model[0])\n",
    "print(model.fc1)"
   ]
  },
  {
   "cell_type": "markdown",
   "metadata": {},
   "source": [
    "In the next notebook, we'll see how we can train a neural network to accuractly predict the numbers appearing in the MNIST images."
   ]
  }
 ],
 "metadata": {
  "kernelspec": {
   "display_name": "Python [default]",
   "language": "python",
   "name": "python3"
  },
  "language_info": {
   "codemirror_mode": {
    "name": "ipython",
    "version": 3
   },
   "file_extension": ".py",
   "mimetype": "text/x-python",
   "name": "python",
   "nbconvert_exporter": "python",
   "pygments_lexer": "ipython3",
   "version": "3.8.18"
  }
 },
 "nbformat": 4,
 "nbformat_minor": 2
}
